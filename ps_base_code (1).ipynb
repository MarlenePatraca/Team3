{
  "cells": [
    {
      "cell_type": "markdown",
      "metadata": {
        "id": "Baqgqd-Q7uTY"
      },
      "source": [
        "# Hackathon challenge code\n",
        "## Reinforcement Learning with Projective Simulation for path-finding problems\n",
        "\n",
        "\n",
        "In this notebook, we provide code to help you start this challenge. The notebook has the following information:\n",
        " 1. *Grid enviroment*. Here, a class grid is formed according to the given structure.\n",
        " 2. *Quantum agent*. The agent uses a tree to make the decision and this is translated to quantum optics making use of modes and beam splitters. There, a class for shapping and handling tree is defined. Check the references for more.\n",
        " 3. *Loss function*. We provide the full loss function already.\n",
        " 4. *Test*"
      ]
    },
    {
      "cell_type": "code",
      "source": [
        "!python --version"
      ],
      "metadata": {
        "colab": {
          "base_uri": "https://localhost:8080/"
        },
        "id": "9uR0DEF8-1Vo",
        "outputId": "44e3d1d6-2963-42f2-fa16-0c4f4a3f6f4f"
      },
      "execution_count": null,
      "outputs": [
        {
          "output_type": "stream",
          "name": "stdout",
          "text": [
            "Python 3.10.12\n"
          ]
        }
      ]
    },
    {
      "cell_type": "code",
      "execution_count": null,
      "metadata": {
        "id": "285-Jp2h7uUk",
        "colab": {
          "base_uri": "https://localhost:8080/"
        },
        "outputId": "6601a1f7-c06a-4e1d-ed7a-af884d59e2c4"
      },
      "outputs": [
        {
          "output_type": "stream",
          "name": "stdout",
          "text": [
            "Collecting perceval-quandela\n",
            "  Downloading perceval_quandela-0.10.4-py3-none-any.whl (280 kB)\n",
            "\u001b[?25l     \u001b[90m━━━━━━━━━━━━━━━━━━━━━━━━━━━━━━━━━━━━━━━━\u001b[0m \u001b[32m0.0/280.3 kB\u001b[0m \u001b[31m?\u001b[0m eta \u001b[36m-:--:--\u001b[0m\r\u001b[2K     \u001b[91m━━━━━━━━━━━\u001b[0m\u001b[91m╸\u001b[0m\u001b[90m━━━━━━━━━━━━━━━━━━━━━━━━━━━━\u001b[0m \u001b[32m81.9/280.3 kB\u001b[0m \u001b[31m2.2 MB/s\u001b[0m eta \u001b[36m0:00:01\u001b[0m\r\u001b[2K     \u001b[90m━━━━━━━━━━━━━━━━━━━━━━━━━━━━━━━━━━━━━━━━\u001b[0m \u001b[32m280.3/280.3 kB\u001b[0m \u001b[31m3.8 MB/s\u001b[0m eta \u001b[36m0:00:00\u001b[0m\n",
            "\u001b[?25hRequirement already satisfied: sympy in /usr/local/lib/python3.10/dist-packages (from perceval-quandela) (1.12)\n",
            "Requirement already satisfied: numpy in /usr/local/lib/python3.10/dist-packages (from perceval-quandela) (1.25.2)\n",
            "Requirement already satisfied: scipy in /usr/local/lib/python3.10/dist-packages (from perceval-quandela) (1.11.4)\n",
            "Requirement already satisfied: tabulate in /usr/local/lib/python3.10/dist-packages (from perceval-quandela) (0.9.0)\n",
            "Requirement already satisfied: matplotlib in /usr/local/lib/python3.10/dist-packages (from perceval-quandela) (3.7.1)\n",
            "Collecting exqalibur~=0.3.1 (from perceval-quandela)\n",
            "  Downloading exqalibur-0.3.1-cp310-cp310-manylinux_2_17_x86_64.manylinux2014_x86_64.whl (1.8 MB)\n",
            "\u001b[2K     \u001b[90m━━━━━━━━━━━━━━━━━━━━━━━━━━━━━━━━━━━━━━━━\u001b[0m \u001b[32m1.8/1.8 MB\u001b[0m \u001b[31m12.5 MB/s\u001b[0m eta \u001b[36m0:00:00\u001b[0m\n",
            "\u001b[?25hRequirement already satisfied: multipledispatch in /usr/local/lib/python3.10/dist-packages (from perceval-quandela) (1.0.0)\n",
            "Requirement already satisfied: protobuf>=3.20.3 in /usr/local/lib/python3.10/dist-packages (from perceval-quandela) (3.20.3)\n",
            "Collecting drawsvg>=2.0 (from perceval-quandela)\n",
            "  Downloading drawsvg-2.3.0-py3-none-any.whl (43 kB)\n",
            "\u001b[2K     \u001b[90m━━━━━━━━━━━━━━━━━━━━━━━━━━━━━━━━━━━━━━━━\u001b[0m \u001b[32m43.9/43.9 kB\u001b[0m \u001b[31m2.3 MB/s\u001b[0m eta \u001b[36m0:00:00\u001b[0m\n",
            "\u001b[?25hCollecting Deprecated (from perceval-quandela)\n",
            "  Downloading Deprecated-1.2.14-py2.py3-none-any.whl (9.6 kB)\n",
            "Requirement already satisfied: requests in /usr/local/lib/python3.10/dist-packages (from perceval-quandela) (2.31.0)\n",
            "Requirement already satisfied: networkx~=3.1 in /usr/local/lib/python3.10/dist-packages (from perceval-quandela) (3.3)\n",
            "Collecting latexcodec (from perceval-quandela)\n",
            "  Downloading latexcodec-3.0.0-py3-none-any.whl (18 kB)\n",
            "Requirement already satisfied: platformdirs in /usr/local/lib/python3.10/dist-packages (from perceval-quandela) (4.2.0)\n",
            "Requirement already satisfied: wrapt<2,>=1.10 in /usr/local/lib/python3.10/dist-packages (from Deprecated->perceval-quandela) (1.14.1)\n",
            "Requirement already satisfied: contourpy>=1.0.1 in /usr/local/lib/python3.10/dist-packages (from matplotlib->perceval-quandela) (1.2.1)\n",
            "Requirement already satisfied: cycler>=0.10 in /usr/local/lib/python3.10/dist-packages (from matplotlib->perceval-quandela) (0.12.1)\n",
            "Requirement already satisfied: fonttools>=4.22.0 in /usr/local/lib/python3.10/dist-packages (from matplotlib->perceval-quandela) (4.51.0)\n",
            "Requirement already satisfied: kiwisolver>=1.0.1 in /usr/local/lib/python3.10/dist-packages (from matplotlib->perceval-quandela) (1.4.5)\n",
            "Requirement already satisfied: packaging>=20.0 in /usr/local/lib/python3.10/dist-packages (from matplotlib->perceval-quandela) (24.0)\n",
            "Requirement already satisfied: pillow>=6.2.0 in /usr/local/lib/python3.10/dist-packages (from matplotlib->perceval-quandela) (9.4.0)\n",
            "Requirement already satisfied: pyparsing>=2.3.1 in /usr/local/lib/python3.10/dist-packages (from matplotlib->perceval-quandela) (3.1.2)\n",
            "Requirement already satisfied: python-dateutil>=2.7 in /usr/local/lib/python3.10/dist-packages (from matplotlib->perceval-quandela) (2.8.2)\n",
            "Requirement already satisfied: charset-normalizer<4,>=2 in /usr/local/lib/python3.10/dist-packages (from requests->perceval-quandela) (3.3.2)\n",
            "Requirement already satisfied: idna<4,>=2.5 in /usr/local/lib/python3.10/dist-packages (from requests->perceval-quandela) (3.7)\n",
            "Requirement already satisfied: urllib3<3,>=1.21.1 in /usr/local/lib/python3.10/dist-packages (from requests->perceval-quandela) (2.0.7)\n",
            "Requirement already satisfied: certifi>=2017.4.17 in /usr/local/lib/python3.10/dist-packages (from requests->perceval-quandela) (2024.2.2)\n",
            "Requirement already satisfied: mpmath>=0.19 in /usr/local/lib/python3.10/dist-packages (from sympy->perceval-quandela) (1.3.0)\n",
            "Requirement already satisfied: six>=1.5 in /usr/local/lib/python3.10/dist-packages (from python-dateutil>=2.7->matplotlib->perceval-quandela) (1.16.0)\n",
            "Installing collected packages: drawsvg, latexcodec, exqalibur, Deprecated, perceval-quandela\n",
            "Successfully installed Deprecated-1.2.14 drawsvg-2.3.0 exqalibur-0.3.1 latexcodec-3.0.0 perceval-quandela-0.10.4\n"
          ]
        }
      ],
      "source": [
        "import numpy as np\n",
        "import matplotlib.pyplot as plt\n",
        "import random\n",
        "!pip install perceval-quandela\n",
        "import perceval as pcvl"
      ]
    },
    {
      "cell_type": "markdown",
      "metadata": {
        "id": "Hpis06pz7uUo"
      },
      "source": [
        "### Grid Environment\n",
        "\n",
        "Defining a grid given the constraints: size, obstacles, starting point and others. Here, the class \"Grid\" makes the environment for our problem. The grid is a 2D array of dim $n\\times n$, with each element being a cell and defined by a tuple $(x,y)$, where $x$ and $y$ are the coordinates of the cell.\n",
        "\n",
        "The following methods are defined:\n",
        "1. \\_\\_init\\_\\_(self, n, start, end, n_not_allowed, wall=None, max_steps=None) with arguments:\n",
        "    * n: the dimension of the grid;\n",
        "    * start: the starting cell, default is $(0,0)$, bottom left corner;\n",
        "    * end: the ending cell, default is $(n-1,n-1)$, top right corner;\n",
        "    * n_not_allowed: the number of cells that are not allowed to be visited, default is $0$, meaning all cells are allowed to be visited, if $n\\_not\\_allowed > 0$, then $n\\_not\\_allowed$ cells will be selected and not allowed to be visited;\n",
        "    * wall: if None, then the $n\\_not\\_allowed$ cells will be randomly selected, if not None, it should be a list of tuples, each tuple is a cell that is not allowed to be visited;\n",
        "    * max_steps: the maximum number of steps allowed, default is None, set $2*n$.\n",
        "2. step(self, action, verbose=False):\n",
        "    * action: the action taken by the agent, can be right or up;\n",
        "    * verbose: if True, print out the current state, action, next state, reward, and done;\n",
        "    * return: the next state, reward, and done.\n",
        "    *  *next state*: the next cell the agent is in same as the current state if the agent hits the wall or not allowed cell.\n",
        "    *  *reward*: reward of 0 for each step, +1 for reaching the end.\n",
        "    *  *done*: True if the agent reaches the end or reaches the max number of steps, False otherwise.\n",
        "3. reset(self):\n",
        "    reset the agent to the starting cell and reward to 0 and done to False and step to 0.\n",
        "4. render(self):\n",
        "    render the grid, with the agent in the current cell, and the path taken so far."
      ]
    },
    {
      "cell_type": "code",
      "execution_count": null,
      "metadata": {
        "id": "Wn6ha23C7uUr"
      },
      "outputs": [],
      "source": [
        "class Grid():\n",
        "    def __init__(self, n, start=(0,0), end=None, n_not_allowed=0, wall=None, max_steps=None):\n",
        "        self.n = n\n",
        "        self.start = start\n",
        "        self.end = (n-1,n-1) if end is None else end\n",
        "        if wall is None and n_not_allowed > 0:\n",
        "            # generate n_not_allowed random cells\n",
        "            self.wall = []\n",
        "            for i in range(n_not_allowed):\n",
        "                x = np.random.randint(0,n)\n",
        "                y = np.random.randint(0,n)\n",
        "                # make sure the random cell is not already in the list or the start or end cell\n",
        "                while (x,y) in self.wall or (x,y) == self.start or (x,y) == self.end:\n",
        "                    x = np.random.randint(0,n)\n",
        "                    y = np.random.randint(0,n)\n",
        "                self.wall.append((x,y))\n",
        "        else:\n",
        "            self.wall = wall\n",
        "        self.av_states = []\n",
        "        for i in range(n):\n",
        "            for j in range(n):\n",
        "                if not ((i, j) in self.wall or (i, j) == self.end):\n",
        "                    self.av_states.append((i, j))\n",
        "        self.max_steps = 2*n if max_steps is None else max_steps\n",
        "        self.reset()\n",
        "\n",
        "    def step(self, action, verbose=False):\n",
        "        wall_flag = False\n",
        "        if action == 'right':\n",
        "            next_state = (self.state[0]+1, self.state[1])\n",
        "        elif action == 'up':\n",
        "            next_state = (self.state[0], self.state[1]+1) # ADD HERE LEFT AND DOWN ________________________________________\n",
        "        else:\n",
        "            raise ValueError('action must be right or up')\n",
        "        if next_state[1] >= self.n or next_state[0] >= self.n:\n",
        "            next_state = self.state\n",
        "            wall_flag = True\n",
        "        elif next_state in self.wall:\n",
        "            next_state = self.state\n",
        "            wall_flag = True\n",
        "        total_state = self.state\n",
        "        self.state = next_state\n",
        "        self.step_count += 1\n",
        "        if self.state == self.end:\n",
        "            reward = 10\n",
        "            self.done = True\n",
        "        elif self.step_count >= self.max_steps:\n",
        "            reward = -1\n",
        "            self.done = True\n",
        "        else:\n",
        "            reward= 0 if not wall_flag else -20\n",
        "            self.done = False\n",
        "        self.total_path.append(self.state)\n",
        "        self.path_actions.append(action)\n",
        "        if verbose:\n",
        "            print('state: {}, action: {}, next_state: {}, reward: {}, done: {}'.format(total_state, action, next_state, reward, self.done))\n",
        "        return next_state, reward, self.done\n",
        "\n",
        "    def reset(self):\n",
        "        self.state = self.start\n",
        "        self.step_count = 0\n",
        "        self.reward = 0\n",
        "        self.done = False\n",
        "        self.total_path = []\n",
        "        self.total_path.append(self.state)\n",
        "        self.path_actions = []\n",
        "\n",
        "    def render(self, path=None):\n",
        "        grid = np.zeros((self.n,self.n))\n",
        "        for i in range(self.n):\n",
        "            for j in range(self.n):\n",
        "                if (i,j) in self.wall:\n",
        "                    grid[j,i] = -1\n",
        "        grid[self.start[1],self.start[0]] = 0.25\n",
        "        grid[self.end[1],self.end[0]] = 0.25\n",
        "        if path is None:\n",
        "            path = self.total_path\n",
        "            state = self.state\n",
        "        else:\n",
        "            state = path[-1]\n",
        "        grid[state[1],state[0]] = 1\n",
        "        for i in range(len(path)-1)[1:]:\n",
        "            grid[path[i][1],path[i][0]] = 0.5\n",
        "        # grid is upside down, so flip it both horizontally and vertically\n",
        "        grid = np.flip(grid, axis=0)\n",
        "        # transpose it\n",
        "        #grid = np.transpose(grid)\n",
        "        plt.imshow(grid, cmap='gray')\n",
        "        plt.xticks([])\n",
        "        plt.yticks([])\n",
        "        plt.show()"
      ]
    },
    {
      "cell_type": "markdown",
      "metadata": {
        "id": "XnrPg_3Z7uUt"
      },
      "source": [
        "Giving it a test for a given wall and plotting it. The number of steps here is set to $9$. Adjust it to the needs of your algorithm."
      ]
    },
    {
      "cell_type": "code",
      "execution_count": null,
      "metadata": {
        "colab": {
          "base_uri": "https://localhost:8080/",
          "height": 406
        },
        "id": "RVY3C_Tf7uUu",
        "outputId": "5a45e18e-eb5f-42e0-da94-8aa265acefb7"
      },
      "outputs": [
        {
          "output_type": "display_data",
          "data": {
            "text/plain": [
              "<Figure size 640x480 with 1 Axes>"
            ],
            "image/png": "[encoded data removed]"
          },
          "metadata": {}
        }
      ],
      "source": [
        "first_wall = [(1, 2), (2, 2), (1, 0), (3, 2), (2, 4)]\n",
        "# test trial of the env with random agent\n",
        "env = Grid(5, n_not_allowed=5, wall=first_wall, max_steps=9)\n",
        "env.render()"
      ]
    },
    {
      "cell_type": "markdown",
      "metadata": {
        "id": "pxHBcEvP7uUw"
      },
      "source": [
        "Testing a random path."
      ]
    },
    {
      "cell_type": "code",
      "execution_count": null,
      "metadata": {
        "colab": {
          "base_uri": "https://localhost:8080/"
        },
        "id": "gmicE9p_7uUx",
        "outputId": "f9a87d5e-7c7e-4416-d3f9-925a0aa12ae8"
      },
      "outputs": [
        {
          "output_type": "stream",
          "name": "stdout",
          "text": [
            "state: (0, 0), action: up, next_state: (0, 1), reward: 0, done: False\n",
            "state: (0, 1), action: up, next_state: (0, 2), reward: 0, done: False\n",
            "state: (0, 2), action: up, next_state: (0, 3), reward: 0, done: False\n",
            "state: (0, 3), action: right, next_state: (1, 3), reward: 0, done: False\n",
            "state: (1, 3), action: up, next_state: (1, 4), reward: 0, done: False\n",
            "state: (1, 4), action: right, next_state: (1, 4), reward: -20, done: False\n",
            "state: (1, 4), action: right, next_state: (1, 4), reward: -20, done: False\n",
            "state: (1, 4), action: right, next_state: (1, 4), reward: -20, done: False\n",
            "state: (1, 4), action: right, next_state: (1, 4), reward: -1, done: True\n"
          ]
        }
      ],
      "source": [
        "for i in range(50):\n",
        "    action = random.choice(['right','up'])\n",
        "    next_state, reward, done = env.step(action, verbose=True)\n",
        "    if done:\n",
        "        break"
      ]
    },
    {
      "cell_type": "code",
      "source": [
        "# Create an instance of the Grid class with desired parameters\n",
        "grid_instance = Grid(n=5, start=(0, 0), end=(4, 4), n_not_allowed=5)\n",
        "\n",
        "# Iterate over all cells in the grid\n",
        "for i in range(grid_instance.n):\n",
        "    for j in range(grid_instance.n):\n",
        "        if (i, j) == grid_instance.start:\n",
        "            print(f\"Cell at position ({i}, {j}): Start\")\n",
        "        elif (i, j) == grid_instance.end:\n",
        "            print(f\"Cell at position ({i}, {j}): End\")\n",
        "        elif (i, j) in grid_instance.wall:\n",
        "            print(f\"Cell at position ({i}, {j}): Wall\")\n",
        "        else:\n",
        "            print(f\"Cell at position ({i}, {j}): Empty\")\n",
        "\n",
        "# Perform an action (e.g., move right)\n",
        "action = 'right'\n",
        "next_state, reward, done = grid_instance.step(action)\n",
        "\n",
        "# Print the reward received\n",
        "print(\"Reward received:\", reward)\n",
        "\n"
      ],
      "metadata": {
        "colab": {
          "base_uri": "https://localhost:8080/"
        },
        "id": "YfY2x6ZEcA6Q",
        "outputId": "e1938f7b-9505-4599-9f45-2e8d0124787c"
      },
      "execution_count": null,
      "outputs": [
        {
          "output_type": "stream",
          "name": "stdout",
          "text": [
            "Cell at position (0, 0): Start\n",
            "Cell at position (0, 1): Empty\n",
            "Cell at position (0, 2): Empty\n",
            "Cell at position (0, 3): Empty\n",
            "Cell at position (0, 4): Wall\n",
            "Cell at position (1, 0): Empty\n",
            "Cell at position (1, 1): Empty\n",
            "Cell at position (1, 2): Empty\n",
            "Cell at position (1, 3): Empty\n",
            "Cell at position (1, 4): Empty\n",
            "Cell at position (2, 0): Wall\n",
            "Cell at position (2, 1): Empty\n",
            "Cell at position (2, 2): Wall\n",
            "Cell at position (2, 3): Wall\n",
            "Cell at position (2, 4): Empty\n",
            "Cell at position (3, 0): Empty\n",
            "Cell at position (3, 1): Empty\n",
            "Cell at position (3, 2): Empty\n",
            "Cell at position (3, 3): Empty\n",
            "Cell at position (3, 4): Wall\n",
            "Cell at position (4, 0): Empty\n",
            "Cell at position (4, 1): Empty\n",
            "Cell at position (4, 2): Empty\n",
            "Cell at position (4, 3): Empty\n",
            "Cell at position (4, 4): End\n",
            "Reward received: 0\n"
          ]
        }
      ]
    },
    {
      "cell_type": "code",
      "source": [
        "import perceval as pcvl\n",
        "\n",
        "# Definir el árbol de decisión como un circuito óptico\n",
        "def create_decision_tree_circuit():\n",
        "    circuit = pcvl.Circuit()\n",
        "\n",
        "    # Primer paso de decisión\n",
        "    # Divisor de haz para simular la decisión 0\n",
        "    beam_splitter_0 = pcvl.BeamSplitter(theta=45)  # División equitativa del haz (50%)\n",
        "    # Divisor de haz para simular la decisión 1\n",
        "    beam_splitter_1 = pcvl.BeamSplitter(theta=45)  # División equitativa del haz (50%)\n",
        "\n",
        "    # Espejos para reflejar los haces de vuelta\n",
        "    mirror_0 = pcvl.Mirror()\n",
        "    mirror_1 = pcvl.Mirror()\n",
        "\n",
        "    # Segundo paso de decisión\n",
        "    # Puertas lógicas AND y OR para combinar los resultados de las decisiones 0 y 1\n",
        "    and_gate = pcvl.MachZehnderInterferometer(theta=0, phi=0)\n",
        "    or_gate = pcvl.MachZehnderInterferometer(theta=0, phi=0)\n",
        "\n",
        "    # Conectar los componentes del circuito\n",
        "    circuit.add_component(beam_splitter_0)\n",
        "    circuit.add_component(beam_splitter_1)\n",
        "    circuit.add_component(mirror_0)\n",
        "    circuit.add_component(mirror_1)\n",
        "    circuit.add_component(and_gate)\n",
        "    circuit.add_component(or_gate)\n",
        "\n",
        "    # Conectar los componentes con fibras ópticas\n",
        "    circuit.connect(beam_splitter_0, mirror_0)\n",
        "    circuit.connect(beam_splitter_0, and_gate)\n",
        "    circuit.connect(mirror_0, and_gate)\n",
        "    circuit.connect(beam_splitter_1, mirror_1)\n",
        "    circuit.connect(beam_splitter_1, or_gate)\n",
        "    circuit.connect(mirror_1, or_gate)\n",
        "\n",
        "    return circuit\n",
        "\n",
        "# Crear el circuito del árbol de decisión\n",
        "decision_tree_circuit = create_decision_tree_circuit()\n",
        "\n",
        "# Imprimir el circuito\n",
        "print(decision_tree_circuit)"
      ],
      "metadata": {
        "colab": {
          "base_uri": "https://localhost:8080/",
          "height": 332
        },
        "id": "Qsf0_pJFZU65",
        "outputId": "dfdf896f-98f0-43af-b140-d339e918a56c"
      },
      "execution_count": null,
      "outputs": [
        {
          "output_type": "error",
          "ename": "TypeError",
          "evalue": "Circuit.__init__() missing 1 required positional argument: 'm'",
          "traceback": [
            "\u001b[0;31m---------------------------------------------------------------------------\u001b[0m",
            "\u001b[0;31mTypeError\u001b[0m                                 Traceback (most recent call last)",
            "\u001b[0;32m<ipython-input-3-3546b891c263>\u001b[0m in \u001b[0;36m<cell line: 41>\u001b[0;34m()\u001b[0m\n\u001b[1;32m     39\u001b[0m \u001b[0;34m\u001b[0m\u001b[0m\n\u001b[1;32m     40\u001b[0m \u001b[0;31m# Crear el circuito del árbol de decisión\u001b[0m\u001b[0;34m\u001b[0m\u001b[0;34m\u001b[0m\u001b[0m\n\u001b[0;32m---> 41\u001b[0;31m \u001b[0mdecision_tree_circuit\u001b[0m \u001b[0;34m=\u001b[0m \u001b[0mcreate_decision_tree_circuit\u001b[0m\u001b[0;34m(\u001b[0m\u001b[0;34m)\u001b[0m\u001b[0;34m\u001b[0m\u001b[0;34m\u001b[0m\u001b[0m\n\u001b[0m\u001b[1;32m     42\u001b[0m \u001b[0;34m\u001b[0m\u001b[0m\n\u001b[1;32m     43\u001b[0m \u001b[0;31m# Imprimir el circuito\u001b[0m\u001b[0;34m\u001b[0m\u001b[0;34m\u001b[0m\u001b[0m\n",
            "\u001b[0;32m<ipython-input-3-3546b891c263>\u001b[0m in \u001b[0;36mcreate_decision_tree_circuit\u001b[0;34m()\u001b[0m\n\u001b[1;32m      3\u001b[0m \u001b[0;31m# Definir el árbol de decisión como un circuito óptico\u001b[0m\u001b[0;34m\u001b[0m\u001b[0;34m\u001b[0m\u001b[0m\n\u001b[1;32m      4\u001b[0m \u001b[0;32mdef\u001b[0m \u001b[0mcreate_decision_tree_circuit\u001b[0m\u001b[0;34m(\u001b[0m\u001b[0;34m)\u001b[0m\u001b[0;34m:\u001b[0m\u001b[0;34m\u001b[0m\u001b[0;34m\u001b[0m\u001b[0m\n\u001b[0;32m----> 5\u001b[0;31m     \u001b[0mcircuit\u001b[0m \u001b[0;34m=\u001b[0m \u001b[0mpcvl\u001b[0m\u001b[0;34m.\u001b[0m\u001b[0mCircuit\u001b[0m\u001b[0;34m(\u001b[0m\u001b[0;34m)\u001b[0m\u001b[0;34m\u001b[0m\u001b[0;34m\u001b[0m\u001b[0m\n\u001b[0m\u001b[1;32m      6\u001b[0m \u001b[0;34m\u001b[0m\u001b[0m\n\u001b[1;32m      7\u001b[0m     \u001b[0;31m# Primer paso de decisión\u001b[0m\u001b[0;34m\u001b[0m\u001b[0;34m\u001b[0m\u001b[0m\n",
            "\u001b[0;31mTypeError\u001b[0m: Circuit.__init__() missing 1 required positional argument: 'm'"
          ]
        }
      ]
    },
    {
      "cell_type": "code",
      "execution_count": null,
      "metadata": {
        "id": "2NhVVteA7uUy"
      },
      "outputs": [],
      "source": [
        "env.render()\n",
        "#env.total_path\n",
        "#env.path_actions"
      ]
    },
    {
      "cell_type": "markdown",
      "metadata": {
        "id": "DQ0HuhgO7uUz"
      },
      "source": [
        "### Quantum agent\n",
        "\n",
        "Here the tree for the ECM graph is created to implement the quantum part of the algorithm."
      ]
    },
    {
      "cell_type": "code",
      "execution_count": null,
      "metadata": {
        "id": "ZVcY2ONP7uU0"
      },
      "outputs": [],
      "source": [
        "import perceval as pcvl\n",
        "from perceval.algorithm import Sampler\n",
        "from perceval.components.unitary_components import PS, BS\n",
        "\n",
        "## Use the symbolic skin for display\n",
        "from perceval.rendering.circuit import DisplayConfig, SymbSkin\n",
        "DisplayConfig.select_skin(SymbSkin)\n",
        "\n",
        "import matplotlib.pyplot as plt\n",
        "import numpy as np\n",
        "\n",
        "from tqdm.auto import tqdm #python library that displays the progress bar\n",
        "import random"
      ]
    },
    {
      "cell_type": "code",
      "source": [
        "\n",
        "mzi = pcvl.Circuit(2) // BS() // (1,PS(phi=pcvl.P(\"phi\"))) // BS()\n",
        "pcvl.pdisplay(mzi)"
      ],
      "metadata": {
        "id": "owfU3Xn3pbmW",
        "colab": {
          "base_uri": "https://localhost:8080/",
          "height": 178
        },
        "outputId": "b29f639f-a535-4b98-bced-10babec6eee3"
      },
      "execution_count": 78,
      "outputs": [
        {
          "output_type": "execute_result",
          "data": {
            "text/plain": [
              "<drawsvg.drawing.Drawing at 0x7e3504bce7a0>"
            ],
            "image/svg+xml": "<?xml version=\"1.0\" encoding=\"UTF-8\"?>\n<svg xmlns=\"http://www.w3.org/2000/svg\" xmlns:xlink=\"http://www.w3.org/1999/xlink\"\n     width=\"445.0\" height=\"156.25\" viewBox=\"-28.0 0 356.0 125.0\">\n<defs>\n</defs>\n<path d=\"M10,25 L25,25\" stroke-width=\"1\" stroke=\"black\" stroke-linejoin=\"miter\" fill=\"none\" />\n<path d=\"M10,75 L25,75\" stroke-width=\"1\" stroke=\"black\" stroke-linejoin=\"miter\" fill=\"none\" />\n<path d=\"M37.9442,25.0002 C51.653800000000004,25.0002,51.5923,50.0,65.3019,50.0 M65.3038,50.0 C51.59219999999999,50.0,51.6538,74.9998,37.94409999999999,74.9998 M65.3038,49.99999999999999 L87.1884,49.99999999999999 M87.1884,49.99999999999999 C100.9,49.99999999999999,100.83840000000001,25.000199999999992,114.5481,25.000199999999992 M87.1884,49.99999999999999 C100.9,49.99999999999999,100.83840000000001,74.9998,114.5481,74.9998 M25.0,24.999999999999993 L38.0,24.999999999999993 M38.0019,74.9998 L25.0,74.9998 M112.6453,74.9998 L125.0,74.9998 M112.1944,24.999799999999993 L125.0,24.999799999999993\" stroke-width=\"1\" stroke=\"black\" stroke-linejoin=\"miter\" fill=\"none\" />\n<text x=\"75\" y=\"38\" font-size=\"7\" text-anchor=\"middle\"></text>\n<path d=\"M97,53 L107,53 L107,63 L97,63 Z\" stroke=\"black\" fill=\"thistle\" stroke-linejoin=\"miter\" />\n<text x=\"102\" y=\"60\" font-size=\"6\" text-anchor=\"middle\">Rx</text>\n<path d=\"M125,75 L145,75 M155,75 L175,75\" stroke-width=\"1\" stroke=\"black\" stroke-linejoin=\"miter\" fill=\"none\" />\n<path d=\"M140,85 L160,85 L160,65 L140,65 L140,85\" stroke-width=\"1\" stroke=\"black\" stroke-linejoin=\"miter\" fill=\"lightgray\" />\n<text x=\"150\" y=\"94\" font-size=\"7\" text-anchor=\"middle\">Φ=phi</text>\n<path d=\"M125,25 L175,25\" stroke=\"black\" stroke-width=\"1\" fill=\"none\" />\n<path d=\"M187.9442,25.0002 C201.6538,25.0002,201.5923,50.0,215.3019,50.0 M215.3038,50.0 C201.5922,50.0,201.6538,74.9998,187.9441,74.9998 M215.3038,49.99999999999999 L237.1884,49.99999999999999 M237.1884,49.99999999999999 C250.9,49.99999999999999,250.8384,25.000199999999992,264.5481,25.000199999999992 M237.18839999999997,49.99999999999999 C250.89999999999998,49.99999999999999,250.83839999999998,74.9998,264.5481,74.9998 M174.99999999999997,24.999999999999993 L187.99999999999997,24.999999999999993 M188.00189999999998,74.9998 L174.99999999999997,74.9998 M262.64529999999996,74.9998 L274.99999999999994,74.9998 M262.1944,24.999799999999993 L275.0,24.999799999999993\" stroke-width=\"1\" stroke=\"black\" stroke-linejoin=\"miter\" fill=\"none\" />\n<text x=\"225\" y=\"38\" font-size=\"7\" text-anchor=\"middle\"></text>\n<path d=\"M247,53 L257,53 L257,63 L247,63 Z\" stroke=\"black\" fill=\"thistle\" stroke-linejoin=\"miter\" />\n<text x=\"252\" y=\"60\" font-size=\"6\" text-anchor=\"middle\">Rx</text>\n<path d=\"M275,25 L290,25\" stroke-width=\"1\" stroke=\"black\" stroke-linejoin=\"miter\" fill=\"none\" />\n<path d=\"M275,75 L290,75\" stroke-width=\"1\" stroke=\"black\" stroke-linejoin=\"miter\" fill=\"none\" />\n<text x=\"300\" y=\"28\" font-size=\"6\" text-anchor=\"end\">0</text>\n<text x=\"300\" y=\"78\" font-size=\"6\" text-anchor=\"end\">1</text>\n<text x=\"0\" y=\"28\" font-size=\"6\" text-anchor=\"start\">0</text>\n<text x=\"0\" y=\"78\" font-size=\"6\" text-anchor=\"start\">1</text>\n</svg>"
          },
          "metadata": {},
          "execution_count": 78
        }
      ]
    },
    {
      "cell_type": "code",
      "source": [],
      "metadata": {
        "id": "70JvQCPEzYwc"
      },
      "execution_count": null,
      "outputs": []
    },
    {
      "cell_type": "code",
      "source": [
        "circuit = pcvl.Circuit(4)\n",
        "circuit.add((1,2),BS()).add(2,PS(phi=pcvl.P(\"phi_11\"))).add((1,2),BS())\n",
        "circuit.add((0,1),BS()).add(1,PS(phi=pcvl.P(\"phi_21\"))).add((0,1),BS())\n",
        "circuit.add((2,3),BS()).add(3,PS(phi=pcvl.P(\"phi_22\"))).add((2,3),BS())\n",
        "\n",
        "\n",
        "pcvl.pdisplay(circuit)\n"
      ],
      "metadata": {
        "id": "9XaD3mI0tcvK",
        "colab": {
          "base_uri": "https://localhost:8080/",
          "height": 303
        },
        "outputId": "8bb9e804-0f43-46d5-c964-149b23a33b2a"
      },
      "execution_count": null,
      "outputs": [
        {
          "output_type": "execute_result",
          "data": {
            "text/plain": [
              "<drawsvg.drawing.Drawing at 0x7c59bb7878b0>"
            ],
            "image/svg+xml": "<?xml version=\"1.0\" encoding=\"UTF-8\"?>\n<svg xmlns=\"http://www.w3.org/2000/svg\" xmlns:xlink=\"http://www.w3.org/1999/xlink\"\n     width=\"757.5\" height=\"281.25\" viewBox=\"-28.0 0 606.0 225.0\">\n<defs>\n</defs>\n<path d=\"M10,25 L25,25\" stroke-width=\"1\" stroke=\"black\" stroke-linejoin=\"miter\" fill=\"none\" />\n<path d=\"M10,75 L25,75\" stroke-width=\"1\" stroke=\"black\" stroke-linejoin=\"miter\" fill=\"none\" />\n<path d=\"M10,125 L25,125\" stroke-width=\"1\" stroke=\"black\" stroke-linejoin=\"miter\" fill=\"none\" />\n<path d=\"M10,175 L25,175\" stroke-width=\"1\" stroke=\"black\" stroke-linejoin=\"miter\" fill=\"none\" />\n<path d=\"M37.9442,75.0002 C51.653800000000004,75.0002,51.5923,100.0,65.3019,100.0 M65.3038,100.0 C51.59219999999999,100.0,51.6538,124.9998,37.94409999999999,124.9998 M65.3038,100.0 L87.1884,100.0 M87.1884,100.0 C100.9,100.0,100.83840000000001,75.0002,114.5481,75.0002 M87.1884,100.0 C100.9,100.0,100.83840000000001,124.9998,114.5481,124.9998 M25.0,75.0 L38.0,75.0 M38.0019,124.9998 L25.0,124.9998 M112.6453,124.9998 L125.0,124.9998 M112.1944,74.9998 L125.0,74.9998\" stroke-width=\"1\" stroke=\"black\" stroke-linejoin=\"miter\" fill=\"none\" />\n<text x=\"75\" y=\"88\" font-size=\"7\" text-anchor=\"middle\"></text>\n<path d=\"M97,103 L107,103 L107,113 L97,113 Z\" stroke=\"black\" fill=\"thistle\" stroke-linejoin=\"miter\" />\n<text x=\"102\" y=\"110\" font-size=\"6\" text-anchor=\"middle\">Rx</text>\n<path d=\"M125,125 L145,125 M155,125 L175,125\" stroke-width=\"1\" stroke=\"black\" stroke-linejoin=\"miter\" fill=\"none\" />\n<path d=\"M140,135 L160,135 L160,115 L140,115 L140,135\" stroke-width=\"1\" stroke=\"black\" stroke-linejoin=\"miter\" fill=\"lightgray\" />\n<text x=\"150\" y=\"144\" font-size=\"7\" text-anchor=\"middle\">Φ=phi_11</text>\n<path d=\"M125,75 L175,75\" stroke=\"black\" stroke-width=\"1\" fill=\"none\" />\n<path d=\"M187.9442,75.0002 C201.6538,75.0002,201.5923,100.0,215.3019,100.0 M215.3038,100.0 C201.5922,100.0,201.6538,124.9998,187.9441,124.9998 M215.3038,100.0 L237.1884,100.0 M237.1884,100.0 C250.9,100.0,250.8384,75.0002,264.5481,75.0002 M237.18839999999997,100.0 C250.89999999999998,100.0,250.83839999999998,124.9998,264.5481,124.9998 M174.99999999999997,75.0 L187.99999999999997,75.0 M188.00189999999998,124.9998 L174.99999999999997,124.9998 M262.64529999999996,124.9998 L274.99999999999994,124.9998 M262.1944,74.9998 L275.0,74.9998\" stroke-width=\"1\" stroke=\"black\" stroke-linejoin=\"miter\" fill=\"none\" />\n<text x=\"225\" y=\"88\" font-size=\"7\" text-anchor=\"middle\"></text>\n<path d=\"M247,103 L257,103 L257,113 L247,113 Z\" stroke=\"black\" fill=\"thistle\" stroke-linejoin=\"miter\" />\n<text x=\"252\" y=\"110\" font-size=\"6\" text-anchor=\"middle\">Rx</text>\n<path d=\"M25,25 L275,25\" stroke=\"black\" stroke-width=\"1\" fill=\"none\" />\n<path d=\"M287.9442,25.0002 C301.65380000000005,25.0002,301.5923,50.0,315.30190000000005,50.0 M315.3038,50.0 C301.59220000000005,50.0,301.65380000000005,74.9998,287.94410000000005,74.9998 M315.3038,49.99999999999999 L337.1884,49.99999999999999 M337.1884,49.99999999999999 C350.9,49.99999999999999,350.8384,25.000199999999992,364.5481,25.000199999999992 M337.1884,49.99999999999999 C350.9,49.99999999999999,350.8384,74.9998,364.5481,74.9998 M275.0,24.999999999999993 L288.0,24.999999999999993 M288.0019,74.9998 L275.0,74.9998 M362.6453,74.9998 L375.0,74.9998 M362.1944,24.999799999999993 L375.0,24.999799999999993\" stroke-width=\"1\" stroke=\"black\" stroke-linejoin=\"miter\" fill=\"none\" />\n<text x=\"325\" y=\"38\" font-size=\"7\" text-anchor=\"middle\"></text>\n<path d=\"M347,53 L357,53 L357,63 L347,63 Z\" stroke=\"black\" fill=\"thistle\" stroke-linejoin=\"miter\" />\n<text x=\"352\" y=\"60\" font-size=\"6\" text-anchor=\"middle\">Rx</text>\n<path d=\"M375,75 L395,75 M405,75 L425,75\" stroke-width=\"1\" stroke=\"black\" stroke-linejoin=\"miter\" fill=\"none\" />\n<path d=\"M390,85 L410,85 L410,65 L390,65 L390,85\" stroke-width=\"1\" stroke=\"black\" stroke-linejoin=\"miter\" fill=\"lightgray\" />\n<text x=\"400\" y=\"94\" font-size=\"7\" text-anchor=\"middle\">Φ=phi_21</text>\n<path d=\"M375,25 L425,25\" stroke=\"black\" stroke-width=\"1\" fill=\"none\" />\n<path d=\"M437.9442,25.0002 C451.65380000000005,25.0002,451.5923,50.0,465.30190000000005,50.0 M465.3038,50.0 C451.59220000000005,50.0,451.65380000000005,74.9998,437.94410000000005,74.9998 M465.3038,49.99999999999999 L487.1884,49.99999999999999 M487.1884,49.99999999999999 C500.9,49.99999999999999,500.8384,25.000199999999992,514.5481,25.000199999999992 M487.1884,49.99999999999999 C500.9,49.99999999999999,500.8384,74.9998,514.5481,74.9998 M425.0,24.999999999999993 L438.0,24.999999999999993 M438.0019,74.9998 L425.0,74.9998 M512.6453,74.9998 L525.0,74.9998 M512.1944,24.999799999999993 L525.0,24.999799999999993\" stroke-width=\"1\" stroke=\"black\" stroke-linejoin=\"miter\" fill=\"none\" />\n<text x=\"475\" y=\"38\" font-size=\"7\" text-anchor=\"middle\"></text>\n<path d=\"M497,53 L507,53 L507,63 L497,63 Z\" stroke=\"black\" fill=\"thistle\" stroke-linejoin=\"miter\" />\n<text x=\"502\" y=\"60\" font-size=\"6\" text-anchor=\"middle\">Rx</text>\n<path d=\"M25,175 L275,175\" stroke=\"black\" stroke-width=\"1\" fill=\"none\" />\n<path d=\"M287.9442,125.0002 C301.65380000000005,125.0002,301.5923,150.0,315.30190000000005,150.0 M315.3038,150.0 C301.59220000000005,150.0,301.65380000000005,174.9998,287.94410000000005,174.9998 M315.3038,150.0 L337.1884,150.0 M337.1884,150.0 C350.9,150.0,350.8384,125.0002,364.5481,125.0002 M337.1884,150.0 C350.9,150.0,350.8384,174.9998,364.5481,174.9998 M275.0,125.0 L288.0,125.0 M288.0019,174.9998 L275.0,174.9998 M362.6453,174.9998 L375.0,174.9998 M362.1944,124.9998 L375.0,124.9998\" stroke-width=\"1\" stroke=\"black\" stroke-linejoin=\"miter\" fill=\"none\" />\n<text x=\"325\" y=\"138\" font-size=\"7\" text-anchor=\"middle\"></text>\n<path d=\"M347,153 L357,153 L357,163 L347,163 Z\" stroke=\"black\" fill=\"thistle\" stroke-linejoin=\"miter\" />\n<text x=\"352\" y=\"160\" font-size=\"6\" text-anchor=\"middle\">Rx</text>\n<path d=\"M375,175 L395,175 M405,175 L425,175\" stroke-width=\"1\" stroke=\"black\" stroke-linejoin=\"miter\" fill=\"none\" />\n<path d=\"M390,185 L410,185 L410,165 L390,165 L390,185\" stroke-width=\"1\" stroke=\"black\" stroke-linejoin=\"miter\" fill=\"lightgray\" />\n<text x=\"400\" y=\"194\" font-size=\"7\" text-anchor=\"middle\">Φ=phi_22</text>\n<path d=\"M375,125 L425,125\" stroke=\"black\" stroke-width=\"1\" fill=\"none\" />\n<path d=\"M437.9442,125.0002 C451.65380000000005,125.0002,451.5923,150.0,465.30190000000005,150.0 M465.3038,150.0 C451.59220000000005,150.0,451.65380000000005,174.9998,437.94410000000005,174.9998 M465.3038,150.0 L487.1884,150.0 M487.1884,150.0 C500.9,150.0,500.8384,125.0002,514.5481,125.0002 M487.1884,150.0 C500.9,150.0,500.8384,174.9998,514.5481,174.9998 M425.0,125.0 L438.0,125.0 M438.0019,174.9998 L425.0,174.9998 M512.6453,174.9998 L525.0,174.9998 M512.1944,124.9998 L525.0,124.9998\" stroke-width=\"1\" stroke=\"black\" stroke-linejoin=\"miter\" fill=\"none\" />\n<text x=\"475\" y=\"138\" font-size=\"7\" text-anchor=\"middle\"></text>\n<path d=\"M497,153 L507,153 L507,163 L497,163 Z\" stroke=\"black\" fill=\"thistle\" stroke-linejoin=\"miter\" />\n<text x=\"502\" y=\"160\" font-size=\"6\" text-anchor=\"middle\">Rx</text>\n<path d=\"M525,25 L540,25\" stroke-width=\"1\" stroke=\"black\" stroke-linejoin=\"miter\" fill=\"none\" />\n<path d=\"M525,75 L540,75\" stroke-width=\"1\" stroke=\"black\" stroke-linejoin=\"miter\" fill=\"none\" />\n<path d=\"M525,125 L540,125\" stroke-width=\"1\" stroke=\"black\" stroke-linejoin=\"miter\" fill=\"none\" />\n<path d=\"M525,175 L540,175\" stroke-width=\"1\" stroke=\"black\" stroke-linejoin=\"miter\" fill=\"none\" />\n<text x=\"550\" y=\"28\" font-size=\"6\" text-anchor=\"end\">0</text>\n<text x=\"550\" y=\"78\" font-size=\"6\" text-anchor=\"end\">1</text>\n<text x=\"550\" y=\"128\" font-size=\"6\" text-anchor=\"end\">2</text>\n<text x=\"550\" y=\"178\" font-size=\"6\" text-anchor=\"end\">3</text>\n<text x=\"0\" y=\"28\" font-size=\"6\" text-anchor=\"start\">0</text>\n<text x=\"0\" y=\"78\" font-size=\"6\" text-anchor=\"start\">1</text>\n<text x=\"0\" y=\"128\" font-size=\"6\" text-anchor=\"start\">2</text>\n<text x=\"0\" y=\"178\" font-size=\"6\" text-anchor=\"start\">3</text>\n</svg>"
          },
          "metadata": {},
          "execution_count": 6
        }
      ]
    },
    {
      "cell_type": "code",
      "source": [
        "        circuit = pcvl.Circuit(2)\n",
        "        circuit.add((0,1),BS()).add(0,PS(phi=pcvl.P(\"phi_1\"))).add((0,1),BS()).add(0,PS(phi=pcvl.P(\"phi_2\")))\n",
        "\n",
        "pcvl.pdisplay(circuit)"
      ],
      "metadata": {
        "colab": {
          "base_uri": "https://localhost:8080/",
          "height": 178
        },
        "id": "KmT8U4k4eO2r",
        "outputId": "b0fa4c9c-9063-4bc5-b873-ae013cb93f9c"
      },
      "execution_count": 79,
      "outputs": [
        {
          "output_type": "execute_result",
          "data": {
            "text/plain": [
              "<drawsvg.drawing.Drawing at 0x7e3504f223b0>"
            ],
            "image/svg+xml": "<?xml version=\"1.0\" encoding=\"UTF-8\"?>\n<svg xmlns=\"http://www.w3.org/2000/svg\" xmlns:xlink=\"http://www.w3.org/1999/xlink\"\n     width=\"507.5\" height=\"156.25\" viewBox=\"-28.0 0 406.0 125.0\">\n<defs>\n</defs>\n<path d=\"M10,25 L25,25\" stroke-width=\"1\" stroke=\"black\" stroke-linejoin=\"miter\" fill=\"none\" />\n<path d=\"M10,75 L25,75\" stroke-width=\"1\" stroke=\"black\" stroke-linejoin=\"miter\" fill=\"none\" />\n<path d=\"M37.9442,25.0002 C51.653800000000004,25.0002,51.5923,50.0,65.3019,50.0 M65.3038,50.0 C51.59219999999999,50.0,51.6538,74.9998,37.94409999999999,74.9998 M65.3038,49.99999999999999 L87.1884,49.99999999999999 M87.1884,49.99999999999999 C100.9,49.99999999999999,100.83840000000001,25.000199999999992,114.5481,25.000199999999992 M87.1884,49.99999999999999 C100.9,49.99999999999999,100.83840000000001,74.9998,114.5481,74.9998 M25.0,24.999999999999993 L38.0,24.999999999999993 M38.0019,74.9998 L25.0,74.9998 M112.6453,74.9998 L125.0,74.9998 M112.1944,24.999799999999993 L125.0,24.999799999999993\" stroke-width=\"1\" stroke=\"black\" stroke-linejoin=\"miter\" fill=\"none\" />\n<text x=\"75\" y=\"38\" font-size=\"7\" text-anchor=\"middle\"></text>\n<path d=\"M97,53 L107,53 L107,63 L97,63 Z\" stroke=\"black\" fill=\"thistle\" stroke-linejoin=\"miter\" />\n<text x=\"102\" y=\"60\" font-size=\"6\" text-anchor=\"middle\">Rx</text>\n<path d=\"M125,25 L145,25 M155,25 L175,25\" stroke-width=\"1\" stroke=\"black\" stroke-linejoin=\"miter\" fill=\"none\" />\n<path d=\"M140,35 L160,35 L160,15 L140,15 L140,35\" stroke-width=\"1\" stroke=\"black\" stroke-linejoin=\"miter\" fill=\"lightgray\" />\n<text x=\"150\" y=\"44\" font-size=\"7\" text-anchor=\"middle\">Φ=phi_1</text>\n<path d=\"M125,75 L175,75\" stroke=\"black\" stroke-width=\"1\" fill=\"none\" />\n<path d=\"M187.9442,25.0002 C201.6538,25.0002,201.5923,50.0,215.3019,50.0 M215.3038,50.0 C201.5922,50.0,201.6538,74.9998,187.9441,74.9998 M215.3038,49.99999999999999 L237.1884,49.99999999999999 M237.1884,49.99999999999999 C250.9,49.99999999999999,250.8384,25.000199999999992,264.5481,25.000199999999992 M237.18839999999997,49.99999999999999 C250.89999999999998,49.99999999999999,250.83839999999998,74.9998,264.5481,74.9998 M174.99999999999997,24.999999999999993 L187.99999999999997,24.999999999999993 M188.00189999999998,74.9998 L174.99999999999997,74.9998 M262.64529999999996,74.9998 L274.99999999999994,74.9998 M262.1944,24.999799999999993 L275.0,24.999799999999993\" stroke-width=\"1\" stroke=\"black\" stroke-linejoin=\"miter\" fill=\"none\" />\n<text x=\"225\" y=\"38\" font-size=\"7\" text-anchor=\"middle\"></text>\n<path d=\"M247,53 L257,53 L257,63 L247,63 Z\" stroke=\"black\" fill=\"thistle\" stroke-linejoin=\"miter\" />\n<text x=\"252\" y=\"60\" font-size=\"6\" text-anchor=\"middle\">Rx</text>\n<path d=\"M275,25 L295,25 M305,25 L325,25\" stroke-width=\"1\" stroke=\"black\" stroke-linejoin=\"miter\" fill=\"none\" />\n<path d=\"M290,35 L310,35 L310,15 L290,15 L290,35\" stroke-width=\"1\" stroke=\"black\" stroke-linejoin=\"miter\" fill=\"lightgray\" />\n<text x=\"300\" y=\"44\" font-size=\"7\" text-anchor=\"middle\">Φ=phi_2</text>\n<path d=\"M275,75 L325,75\" stroke=\"black\" stroke-width=\"1\" fill=\"none\" />\n<path d=\"M325,25 L340,25\" stroke-width=\"1\" stroke=\"black\" stroke-linejoin=\"miter\" fill=\"none\" />\n<path d=\"M325,75 L340,75\" stroke-width=\"1\" stroke=\"black\" stroke-linejoin=\"miter\" fill=\"none\" />\n<text x=\"350\" y=\"28\" font-size=\"6\" text-anchor=\"end\">0</text>\n<text x=\"350\" y=\"78\" font-size=\"6\" text-anchor=\"end\">1</text>\n<text x=\"0\" y=\"28\" font-size=\"6\" text-anchor=\"start\">0</text>\n<text x=\"0\" y=\"78\" font-size=\"6\" text-anchor=\"start\">1</text>\n</svg>"
          },
          "metadata": {},
          "execution_count": 79
        }
      ]
    },
    {
      "cell_type": "code",
      "source": [
        "circuit = pcvl.Circuit(2)\n",
        "circuit.add((0,1),BS()).add(1,PS(phi=pcvl.P(\"phi_11\"))).add((0,1),BS())\n",
        "pcvl.pdisplay(circuit)\n"
      ],
      "metadata": {
        "id": "JR5iXDpKz-LQ"
      },
      "execution_count": null,
      "outputs": []
    },
    {
      "cell_type": "code",
      "source": [
        "circuit //=((1,2),BS()).add(2,PS(phi=pcvl.P(\"phi_11\"))).add((1,2),BS())"
      ],
      "metadata": {
        "id": "mNoEMtq00znq"
      },
      "execution_count": null,
      "outputs": []
    },
    {
      "cell_type": "code",
      "source": [
        "n=8 #Number of decisions= n_edge_grid - 1\n",
        "circuit = pcvl.Circuit(n)\n",
        "for i in range(n)\n",
        "    circuit.add((1,2),BS()).add(2,PS(phi=pcvl.P(\"phi_11\"))).add((1,2),BS())\n"
      ],
      "metadata": {
        "id": "uUVSKeM5vKIz"
      },
      "execution_count": null,
      "outputs": []
    },
    {
      "cell_type": "code",
      "execution_count": 101,
      "metadata": {
        "id": "11YA4rAh7uU1"
      },
      "outputs": [],
      "source": [
        "class Tree():\n",
        "    def __init__(self, n_leaves=4, remote=False,\n",
        "            remote_config={\n",
        "                'processor': 'sim:ascella',\n",
        "                'token': None,\n",
        "                'nshots': 1e5}):\n",
        "\n",
        "        self.n_leaves = n_leaves\n",
        "        self.layers=int(self.n_leaves/2)\n",
        "\n",
        "        # create the tree\n",
        "\n",
        "\n",
        "        self.circuit = pcvl.Circuit(2)\n",
        "        self.circuit.add((0,1),BS()).add(0,PS(phi=pcvl.P(\"phi_1\"))).add((0,1),BS()).add(0,PS(phi=pcvl.P(\"phi_2\")))\n",
        "\n",
        "        for p in self.circuit.get_parameters():\n",
        "             p.set_value(np.pi/4)\n",
        "\n",
        "        # Suggestion: create the indeces for where you should place the LO components\n",
        "        #             add the component to each branch of the tree\n",
        "        # ....\n",
        "\n",
        "        # initialize parameters. This here is kind of random, we suggest initializing them as np.pi/4\n",
        "        # ....\n",
        "\n",
        "        # input state\n",
        "        in_list = [0]*(self.n_leaves)\n",
        "        in_list[self.layers-1] = 1\n",
        "        self.in_state = pcvl.BasicState(in_list)\n",
        "\n",
        "        # flag for remote computation\n",
        "        self.remote = remote\n",
        "        if self.remote:\n",
        "            pass# configure the remote params\n",
        "            # ....\n",
        "        else:\n",
        "            # processor\n",
        "            self.processor = pcvl.Processor('SLOS',self.circuit)\n",
        "\n",
        "        self.processor.with_input(self.in_state)\n",
        "        self.sampler=pcvl.algorithm.Sampler(self.processor)\n",
        "\n",
        "        self.probs = self.compute_pdf()\n",
        "\n",
        "    # post selection function to discard 2 photon events due to g2\n",
        "    def g2_postselect_func(self, s: pcvl.BasicState) -> bool:\n",
        "        counts = np.sum([n for n in s])\n",
        "        if counts !=1:\n",
        "            return False\n",
        "        return True\n",
        "\n",
        "     # take perceval state and return the index of the mode with 1\n",
        "    def stateToModeIdx(self, state):\n",
        "        state_str = str(state)\n",
        "        state_str = state_str.replace(\"|\", \"\")\n",
        "        state_str = state_str.replace(\">\", \"\")\n",
        "        state_str = state_str.split(\",\")\n",
        "        return state_str.index(\"1\")\n",
        "\n",
        "    # perform single photon walk\n",
        "    def sample(self):\n",
        "        return np.random.choice(list(self.probs.keys()), p=list(self.probs.values()))\n",
        "\n",
        "    def compute_pdf(self):\n",
        "        if self.remote:\n",
        "\n",
        "            pass# ....\n",
        "\n",
        "            # postselect\n",
        "            results['results'] = {k: v for k, v in results['results'].items() if self.g2_postselect_func(k)}\n",
        "            tot_samples = np.sum([v for v in results['results'].values()])\n",
        "            probs = {k: v/tot_samples for k, v in results['results'].items()}\n",
        "        else:\n",
        "            probs = self.sampler.probs()[\"results\"]\n",
        "        probs = {self.stateToModeIdx(state): prob for state, prob in probs.items()}\n",
        "        return probs\n",
        "\n",
        "    def pdf(self):\n",
        "        return self.probs\n",
        "\n",
        "    def updateCircuit(self, new_params):\n",
        "\n",
        "        for i,p in enumerate(self.circuit.get_parameters()):\n",
        "          p.set_value(new_params[i])\n",
        "\n",
        "        # update the processor\n",
        "        if self.remote:\n",
        "            self.processor.set_circuit(self.circuit)\n",
        "        else:\n",
        "            self.processor = pcvl.Processor(\"SLOS\", self.circuit)\n",
        "            self.processor.with_input(self.in_state)\n",
        "\n",
        "        self.sampler = Sampler(self.processor)\n",
        "        self.probs = self.compute_pdf()"
      ]
    },
    {
      "cell_type": "markdown",
      "metadata": {
        "id": "FS2PG-p97uU1"
      },
      "source": [
        "Give it a test. A tree with two leaves, this is two options for movement, should output the following cells."
      ]
    },
    {
      "cell_type": "code",
      "execution_count": 103,
      "metadata": {
        "id": "uqJQJjoK7uU2",
        "colab": {
          "base_uri": "https://localhost:8080/"
        },
        "outputId": "dfb613a4-edd4-4dfc-e13a-7a623c475d6d"
      },
      "outputs": [
        {
          "output_type": "execute_result",
          "data": {
            "text/plain": [
              "{0: 0.49999999999999983, 1: 0.5000000000000002}"
            ]
          },
          "metadata": {},
          "execution_count": 103
        }
      ],
      "source": [
        "# tree with SLOS\n",
        "tree = Tree(2)\n",
        "tree.updateCircuit([np.pi/2, np.pi/2])\n",
        "tree.pdf()"
      ]
    },
    {
      "cell_type": "code",
      "execution_count": 104,
      "metadata": {
        "id": "UKZNCOh67uU3",
        "colab": {
          "base_uri": "https://localhost:8080/",
          "height": 178
        },
        "outputId": "aebeccae-cdae-45fd-b26e-d9541b096c45"
      },
      "outputs": [
        {
          "output_type": "execute_result",
          "data": {
            "text/plain": [
              "<drawsvg.drawing.Drawing at 0x7e3504bc9360>"
            ],
            "image/svg+xml": "<?xml version=\"1.0\" encoding=\"UTF-8\"?>\n<svg xmlns=\"http://www.w3.org/2000/svg\" xmlns:xlink=\"http://www.w3.org/1999/xlink\"\n     width=\"507.5\" height=\"156.25\" viewBox=\"-28.0 0 406.0 125.0\">\n<defs>\n</defs>\n<path d=\"M10,25 L25,25\" stroke-width=\"1\" stroke=\"black\" stroke-linejoin=\"miter\" fill=\"none\" />\n<path d=\"M10,75 L25,75\" stroke-width=\"1\" stroke=\"black\" stroke-linejoin=\"miter\" fill=\"none\" />\n<path d=\"M37.9442,25.0002 C51.653800000000004,25.0002,51.5923,50.0,65.3019,50.0 M65.3038,50.0 C51.59219999999999,50.0,51.6538,74.9998,37.94409999999999,74.9998 M65.3038,49.99999999999999 L87.1884,49.99999999999999 M87.1884,49.99999999999999 C100.9,49.99999999999999,100.83840000000001,25.000199999999992,114.5481,25.000199999999992 M87.1884,49.99999999999999 C100.9,49.99999999999999,100.83840000000001,74.9998,114.5481,74.9998 M25.0,24.999999999999993 L38.0,24.999999999999993 M38.0019,74.9998 L25.0,74.9998 M112.6453,74.9998 L125.0,74.9998 M112.1944,24.999799999999993 L125.0,24.999799999999993\" stroke-width=\"1\" stroke=\"black\" stroke-linejoin=\"miter\" fill=\"none\" />\n<text x=\"75\" y=\"38\" font-size=\"7\" text-anchor=\"middle\"></text>\n<path d=\"M97,53 L107,53 L107,63 L97,63 Z\" stroke=\"black\" fill=\"thistle\" stroke-linejoin=\"miter\" />\n<text x=\"102\" y=\"60\" font-size=\"6\" text-anchor=\"middle\">Rx</text>\n<path d=\"M125,25 L145,25 M155,25 L175,25\" stroke-width=\"1\" stroke=\"black\" stroke-linejoin=\"miter\" fill=\"none\" />\n<path d=\"M140,35 L160,35 L160,15 L140,15 L140,35\" stroke-width=\"1\" stroke=\"black\" stroke-linejoin=\"miter\" fill=\"lightgray\" />\n<text x=\"150\" y=\"44\" font-size=\"7\" text-anchor=\"middle\">Φ=pi/2</text>\n<path d=\"M125,75 L175,75\" stroke=\"black\" stroke-width=\"1\" fill=\"none\" />\n<path d=\"M187.9442,25.0002 C201.6538,25.0002,201.5923,50.0,215.3019,50.0 M215.3038,50.0 C201.5922,50.0,201.6538,74.9998,187.9441,74.9998 M215.3038,49.99999999999999 L237.1884,49.99999999999999 M237.1884,49.99999999999999 C250.9,49.99999999999999,250.8384,25.000199999999992,264.5481,25.000199999999992 M237.18839999999997,49.99999999999999 C250.89999999999998,49.99999999999999,250.83839999999998,74.9998,264.5481,74.9998 M174.99999999999997,24.999999999999993 L187.99999999999997,24.999999999999993 M188.00189999999998,74.9998 L174.99999999999997,74.9998 M262.64529999999996,74.9998 L274.99999999999994,74.9998 M262.1944,24.999799999999993 L275.0,24.999799999999993\" stroke-width=\"1\" stroke=\"black\" stroke-linejoin=\"miter\" fill=\"none\" />\n<text x=\"225\" y=\"38\" font-size=\"7\" text-anchor=\"middle\"></text>\n<path d=\"M247,53 L257,53 L257,63 L247,63 Z\" stroke=\"black\" fill=\"thistle\" stroke-linejoin=\"miter\" />\n<text x=\"252\" y=\"60\" font-size=\"6\" text-anchor=\"middle\">Rx</text>\n<path d=\"M275,25 L295,25 M305,25 L325,25\" stroke-width=\"1\" stroke=\"black\" stroke-linejoin=\"miter\" fill=\"none\" />\n<path d=\"M290,35 L310,35 L310,15 L290,15 L290,35\" stroke-width=\"1\" stroke=\"black\" stroke-linejoin=\"miter\" fill=\"lightgray\" />\n<text x=\"300\" y=\"44\" font-size=\"7\" text-anchor=\"middle\">Φ=pi/2</text>\n<path d=\"M275,75 L325,75\" stroke=\"black\" stroke-width=\"1\" fill=\"none\" />\n<path d=\"M325,25 L340,25\" stroke-width=\"1\" stroke=\"black\" stroke-linejoin=\"miter\" fill=\"none\" />\n<path d=\"M325,75 L340,75\" stroke-width=\"1\" stroke=\"black\" stroke-linejoin=\"miter\" fill=\"none\" />\n<text x=\"350\" y=\"28\" font-size=\"6\" text-anchor=\"end\">0</text>\n<text x=\"350\" y=\"78\" font-size=\"6\" text-anchor=\"end\">1</text>\n<text x=\"0\" y=\"28\" font-size=\"6\" text-anchor=\"start\">0</text>\n<text x=\"0\" y=\"78\" font-size=\"6\" text-anchor=\"start\">1</text>\n</svg>"
          },
          "metadata": {},
          "execution_count": 104
        }
      ],
      "source": [
        "pcvl.pdisplay(tree.circuit)"
      ]
    },
    {
      "cell_type": "markdown",
      "metadata": {
        "id": "elZ_xDS97uU4"
      },
      "source": [
        "### Loss function\n",
        "\n",
        "The loss function is fully implemented here and, in principle, you don't need to change anything even when adding constraints for bonus points. You can use it directly, no changes needed.\n",
        "\n",
        "For details on how it is constructed, check the references from the challenge file."
      ]
    },
    {
      "cell_type": "code",
      "execution_count": 105,
      "metadata": {
        "id": "YTBLIZDx7uU5"
      },
      "outputs": [],
      "source": [
        " # initialize vector delta_k to a bernoulli +-1 distribution of size n_params\n",
        "def bernoulli_delta(n_params, p=0.5):\n",
        "    delta_k = np.random.binomial(1, p, n_params)\n",
        "    delta_k[delta_k==0] = -1\n",
        "    return delta_k"
      ]
    },
    {
      "cell_type": "code",
      "execution_count": 106,
      "metadata": {
        "id": "5b-YQLzC7uU6"
      },
      "outputs": [],
      "source": [
        "def phase_loss(tree):\n",
        "    u = np.array(tree.circuit.compute_unitary())\n",
        "    input = np.array([1, 0])\n",
        "    output = np.dot(u, input)\n",
        "    out_phases = np.angle(output)\n",
        "    return np.sum(np.abs(out_phases))"
      ]
    },
    {
      "cell_type": "code",
      "execution_count": 107,
      "metadata": {
        "id": "mavcC8Et7uU7"
      },
      "outputs": [],
      "source": [
        "def tree_loss(params, probs, actions, rewards, c=0.1, delta_k = None, log=False):\n",
        "\n",
        "    # shift params\n",
        "    if delta_k is not None:\n",
        "        tree.updateCircuit(params+c*delta_k)\n",
        "        \"\"\"\n",
        "        for i, p in enumerate(tree.circuit.get_parameters()):\n",
        "            p.set_value(params[i]+c*delta_k[i])\n",
        "        \"\"\"\n",
        "    pdf_dict = tree.pdf()\n",
        "    next_probs = np.array([pdf_dict[action] for action in actions])\n",
        "    # compute the expected next step probabilities given the reward\n",
        "    relu = lambda x: np.maximum(x, 0)\n",
        "    expected_probs = 1-relu(1-relu(rewards + probs))\n",
        "    # compute the loss with KL divergence of both (next_probs, expected_probs) and (1-next_probs, 1-expected_probs) since the two are not normalized\n",
        "    # regularization is added to avoid Nan values\n",
        "    regHigh = 1+1e-5\n",
        "    regLow = 1e-5\n",
        "    loss = np.sum(next_probs*np.log((next_probs+regLow)/(expected_probs+regLow))+ (1-next_probs)*np.log((regHigh-next_probs)/(regHigh-expected_probs)))\n",
        "    # add shannon loss\n",
        "    if log:\n",
        "        return loss, phase_loss(tree)\n",
        "    loss += phase_loss(tree)\n",
        "    return loss"
      ]
    },
    {
      "cell_type": "code",
      "execution_count": 108,
      "metadata": {
        "id": "YK0e3KS27uU8"
      },
      "outputs": [],
      "source": [
        "def middle_spsa_step(params, loss_fun, tree, actions, rewards, delta_k, c=0.1):\n",
        "    grads = []\n",
        "    # compute loss for positive and negative perturbation\n",
        "    # current probs\n",
        "    pdf_dict = tree.pdf()\n",
        "    probs = np.array([pdf_dict[action] for action in actions])\n",
        "    loss_plus = loss_fun(params, probs, actions, rewards, c, delta_k)\n",
        "    loss_minus = loss_fun(params, probs, actions, rewards, -c, delta_k)\n",
        "    for i in range(len(params)):\n",
        "        grads.append((loss_plus-loss_minus)/(2*c*delta_k[i]))\n",
        "    return grads"
      ]
    },
    {
      "cell_type": "markdown",
      "metadata": {
        "id": "TqGwcLpp7uU9"
      },
      "source": [
        "#### Combining the grid, circuit and loss function to train the model\n",
        "\n",
        "Here is where everything comes together to train our agent.\n",
        "Let's start with the grid. Try to test your circuit implementation with the following grid. You can use a simpler one, specially when testing constraints."
      ]
    },
    {
      "cell_type": "code",
      "execution_count": 109,
      "metadata": {
        "id": "PpS91ngw7uU9",
        "colab": {
          "base_uri": "https://localhost:8080/",
          "height": 406
        },
        "outputId": "0dec9810-520e-4865-b767-4ba88912eaa9"
      },
      "outputs": [
        {
          "output_type": "display_data",
          "data": {
            "text/plain": [
              "<Figure size 640x480 with 1 Axes>"
            ],
            "image/png": "[encoded data removed]"
          },
          "metadata": {}
        }
      ],
      "source": [
        "grid_5x5 = Grid(5, n_not_allowed=5, wall=first_wall, max_steps=15)\n",
        "grid_5x5.render()"
      ]
    },
    {
      "cell_type": "markdown",
      "metadata": {
        "id": "hh6RMD9B7uU-"
      },
      "source": [
        "Defining \"tree_params\". It starts with some probability for the choices for each state. The goal is to make it learn and update these parameters based on the rewards."
      ]
    },
    {
      "cell_type": "code",
      "execution_count": 110,
      "metadata": {
        "id": "H3nDRyxK7uU-"
      },
      "outputs": [],
      "source": [
        "tree_params = {\n",
        "    # is a dict with an empy list for each position tuple in the grid excluded final state and walls\n",
        "    state: [np.pi/2]*len(tree.circuit.get_parameters()) for state in grid_5x5.av_states\n",
        "}"
      ]
    },
    {
      "cell_type": "code",
      "execution_count": 111,
      "metadata": {
        "id": "j0ipn8i-7uU-"
      },
      "outputs": [],
      "source": [
        "key_to_action = {\n",
        "    0: 'right',\n",
        "    1: 'up'}\n",
        "action_to_key = {\n",
        "    'right': 0,\n",
        "    'up': 1}"
      ]
    },
    {
      "cell_type": "markdown",
      "metadata": {
        "id": "uQV9pB8G7uU_"
      },
      "source": [
        "The cell that does the magic :D\n",
        "\n",
        "Here, the training happens!"
      ]
    },
    {
      "cell_type": "code",
      "execution_count": 112,
      "metadata": {
        "id": "TzpJt-l57uU_",
        "colab": {
          "base_uri": "https://localhost:8080/",
          "height": 49,
          "referenced_widgets": [
            "48466ef66c5645008e5910c2601398ad",
            "93c7d74448d34f828ac0c9b42d8b53b9",
            "e37728a45c76404db870cea6d602e28a",
            "c1d897098a3a41a389f7a2dff975be99",
            "06e1d749c42241fcaf18e3ffe15b4fa0",
            "f45984cd577b483a8ef3bcdbbc81acf8",
            "0faae3948e0b40629c0129863bbd19af",
            "f8e33bb80a46469d8338d5c220b4466c",
            "67eafc15103c4b30b6b33a4cf3ceed94",
            "a70b781e55344fcbb3c5ae8a9087da25",
            "4e13e1e040b440cb9e3ab520f7fd605a"
          ]
        },
        "outputId": "fc80a885-dec3-4a6b-a1dd-6e5916e03b09"
      },
      "outputs": [
        {
          "output_type": "display_data",
          "data": {
            "text/plain": [
              "  0%|          | 0/200 [00:00<?, ?it/s]"
            ],
            "application/vnd.jupyter.widget-view+json": {
              "version_major": 2,
              "version_minor": 0,
              "model_id": "48466ef66c5645008e5910c2601398ad"
            }
          },
          "metadata": {}
        }
      ],
      "source": [
        "n_episodes = 200\n",
        "score = []\n",
        "paths = []\n",
        "counter = 0\n",
        "for i in tqdm(range(n_episodes)):\n",
        "    lr = 0.1\n",
        "    # reset grid\n",
        "    grid_5x5.reset()\n",
        "    rewards = []\n",
        "    actions = []\n",
        "    while not grid_5x5.done:\n",
        "        state = grid_5x5.state          # get current state\n",
        "        params = tree_params[state]     # get current params\n",
        "        tree.updateCircuit(params)      # update tree\n",
        "        # sample action\n",
        "        action = key_to_action[tree.sample()]\n",
        "        next_state, reward, done = grid_5x5.step(action)\n",
        "        rewards.append(reward/10)       # save reward\n",
        "    # compute gradients for each position seen\n",
        "    #print(grid_5x5.state, rewards[-1]) # print final state and final reward\n",
        "    actions = [action_to_key[action] for action in grid_5x5.path_actions]\n",
        "\n",
        "    if grid_5x5.state == grid_5x5.end:\n",
        "        counter += 1\n",
        "    for i, state in enumerate(grid_5x5.total_path[:-1]):\n",
        "        params = tree_params[state]\n",
        "        delta_k = bernoulli_delta(len(params))\n",
        "        tree.updateCircuit(params)\n",
        "        # compute distance last state to end\n",
        "        dist_to_end = np.linalg.norm(np.array(state)-np.array(grid_5x5.end))\n",
        "        reg = 1e-5\n",
        "        grads = middle_spsa_step(params, tree_loss, tree, [actions[i]], [(rewards[-1] + rewards[i])/(dist_to_end+reg)], delta_k)\n",
        "        # update params\n",
        "        tree_params[state] = [p-lr*g for p, g in zip(params, grads)]\n",
        "        tree.updateCircuit(tree_params[state])\n",
        "\n",
        "    score.append(np.linalg.norm(np.array(grid_5x5.total_path[-1])-np.array(grid_5x5.end)))\n",
        "\n",
        "    paths.append(grid_5x5.total_path)   # save path"
      ]
    },
    {
      "cell_type": "code",
      "execution_count": 113,
      "metadata": {
        "id": "x5XPKtdx7uVA",
        "colab": {
          "base_uri": "https://localhost:8080/"
        },
        "outputId": "000177fd-35fa-4f33-cd92-4f79eddc1895"
      },
      "outputs": [
        {
          "output_type": "execute_result",
          "data": {
            "text/plain": [
              "142"
            ]
          },
          "metadata": {},
          "execution_count": 113
        }
      ],
      "source": [
        "counter"
      ]
    },
    {
      "cell_type": "markdown",
      "metadata": {
        "id": "r2eMyG337uVA"
      },
      "source": [
        "You can see the probabilities of selecting each action for each cell of the grid (we printed it) or you can also plot the path (commented part)."
      ]
    },
    {
      "cell_type": "code",
      "execution_count": 114,
      "metadata": {
        "id": "g7pU6U2p7uVB",
        "colab": {
          "base_uri": "https://localhost:8080/"
        },
        "outputId": "12f6ebbf-30d1-4ccc-957f-c42a91a1d206"
      },
      "outputs": [
        {
          "output_type": "stream",
          "name": "stdout",
          "text": [
            "(0, 0) {0: 0.0051447795261759435, 1: 0.9948552204738241}\n",
            "(0, 1) {0: 0.9718704431669513, 1: 0.0281295568330487}\n",
            "(0, 2) {0: 0.6831636012428531, 1: 0.316836398757147}\n",
            "(0, 3) {0: 0.9799982864025549, 1: 0.020001713597445098}\n",
            "(0, 4) {0: 0.9589411689130733, 1: 0.04105883108692662}\n",
            "(1, 1) {0: 0.6678705521261358, 1: 0.3321294478738643}\n",
            "(1, 3) {0: 0.9998174756307096, 1: 0.00018252436929055068}\n",
            "(1, 4) {0: 0.10447703583387577, 1: 0.8955229641661243}\n",
            "(2, 0) {0: 0.49999999999999983, 1: 0.5000000000000002}\n",
            "(2, 1) {0: 0.6682135154602701, 1: 0.33178648453973}\n",
            "(2, 3) {0: 0.5722946952077255, 1: 0.4277053047922746}\n",
            "(3, 0) {0: 0.49999999999999983, 1: 0.5000000000000002}\n",
            "(3, 1) {0: 0.9990511960339045, 1: 0.0009488039660955495}\n",
            "(3, 3) {0: 0.014409682020031078, 1: 0.985590317979969}\n",
            "(3, 4) {0: 0.9949030606301138, 1: 0.0050969393698861954}\n",
            "(4, 0) {0: 0.49999999999999983, 1: 0.5000000000000002}\n",
            "(4, 1) {0: 0.005639855930713093, 1: 0.9943601440692869}\n",
            "(4, 2) {0: 0.0341998411861823, 1: 0.9658001588138178}\n",
            "(4, 3) {0: 0.005918362304876613, 1: 0.9940816376951234}\n"
          ]
        }
      ],
      "source": [
        "# print each tree key and pdf\n",
        "for key, params in tree_params.items():\n",
        "    tree.updateCircuit(params)\n",
        "    print(key, tree.pdf())\n",
        "\n",
        "# find index where path not completed\n",
        "#for i, path in enumerate(paths):\n",
        "#    if len(path) < 10:\n",
        "#        print(i, path)"
      ]
    },
    {
      "cell_type": "code",
      "execution_count": 115,
      "metadata": {
        "id": "crquxC7x7uVB",
        "colab": {
          "base_uri": "https://localhost:8080/",
          "height": 406
        },
        "outputId": "cd392cc2-8442-4a78-b3c9-7ec7627c33e4"
      },
      "outputs": [
        {
          "output_type": "display_data",
          "data": {
            "text/plain": [
              "<Figure size 640x480 with 1 Axes>"
            ],
            "image/png": "[encoded data removed]"
          },
          "metadata": {}
        }
      ],
      "source": [
        "# visualization after selecting a good path.\n",
        "grid_5x5.render(paths[15])"
      ]
    },
    {
      "cell_type": "markdown",
      "metadata": {
        "id": "Z_6zEOyB7uVC"
      },
      "source": [
        "## Working with the quantum agent\n",
        "\n",
        "A reminder that solving this notebook is part of the challenge and adding constraints along with remote computation are good bonus points."
      ]
    },
    {
      "cell_type": "code",
      "source": [
        "circuit=pcvl.Circuit(4)\n",
        "pcvl.pdisplay(circuit)"
      ],
      "metadata": {
        "colab": {
          "base_uri": "https://localhost:8080/",
          "height": 303
        },
        "id": "FJKXrlgO1lCZ",
        "outputId": "02f82574-c6c6-4f50-fcad-c1c88ef9ce7b"
      },
      "execution_count": 116,
      "outputs": [
        {
          "output_type": "execute_result",
          "data": {
            "text/plain": [
              "<drawsvg.drawing.Drawing at 0x7e3504a997b0>"
            ],
            "image/svg+xml": "<?xml version=\"1.0\" encoding=\"UTF-8\"?>\n<svg xmlns=\"http://www.w3.org/2000/svg\" xmlns:xlink=\"http://www.w3.org/1999/xlink\"\n     width=\"132.5\" height=\"281.25\" viewBox=\"-28.0 0 106.0 225.0\">\n<defs>\n</defs>\n<path d=\"M10,25 L25,25\" stroke-width=\"1\" stroke=\"black\" stroke-linejoin=\"miter\" fill=\"none\" />\n<path d=\"M10,75 L25,75\" stroke-width=\"1\" stroke=\"black\" stroke-linejoin=\"miter\" fill=\"none\" />\n<path d=\"M10,125 L25,125\" stroke-width=\"1\" stroke=\"black\" stroke-linejoin=\"miter\" fill=\"none\" />\n<path d=\"M10,175 L25,175\" stroke-width=\"1\" stroke=\"black\" stroke-linejoin=\"miter\" fill=\"none\" />\n<path d=\"M25,25 L40,25\" stroke-width=\"1\" stroke=\"black\" stroke-linejoin=\"miter\" fill=\"none\" />\n<path d=\"M25,75 L40,75\" stroke-width=\"1\" stroke=\"black\" stroke-linejoin=\"miter\" fill=\"none\" />\n<path d=\"M25,125 L40,125\" stroke-width=\"1\" stroke=\"black\" stroke-linejoin=\"miter\" fill=\"none\" />\n<path d=\"M25,175 L40,175\" stroke-width=\"1\" stroke=\"black\" stroke-linejoin=\"miter\" fill=\"none\" />\n<text x=\"50\" y=\"28\" font-size=\"6\" text-anchor=\"end\">0</text>\n<text x=\"50\" y=\"78\" font-size=\"6\" text-anchor=\"end\">1</text>\n<text x=\"50\" y=\"128\" font-size=\"6\" text-anchor=\"end\">2</text>\n<text x=\"50\" y=\"178\" font-size=\"6\" text-anchor=\"end\">3</text>\n<text x=\"0\" y=\"28\" font-size=\"6\" text-anchor=\"start\">0</text>\n<text x=\"0\" y=\"78\" font-size=\"6\" text-anchor=\"start\">1</text>\n<text x=\"0\" y=\"128\" font-size=\"6\" text-anchor=\"start\">2</text>\n<text x=\"0\" y=\"178\" font-size=\"6\" text-anchor=\"start\">3</text>\n</svg>"
          },
          "metadata": {},
          "execution_count": 116
        }
      ]
    },
    {
      "cell_type": "code",
      "source": [],
      "metadata": {
        "id": "HQCrP5ZwkZMY"
      },
      "execution_count": null,
      "outputs": []
    }
  ],
  "metadata": {
    "interpreter": {
      "hash": "765bd6793ea5362367183dba09c599ce34c84eeeb7f3172847d560f9d0858670"
    },
    "kernelspec": {
      "display_name": "Python 3.9.12 ('base')",
      "language": "python",
      "name": "python3"
    },
    "language_info": {
      "codemirror_mode": {
        "name": "ipython",
        "version": 3
      },
      "file_extension": ".py",
      "mimetype": "text/x-python",
      "name": "python",
      "nbconvert_exporter": "python",
      "pygments_lexer": "ipython3",
      "version": "3.9.12"
    },
    "orig_nbformat": 4,
    "colab": {
      "provenance": []
    },
    "widgets": {
      "application/vnd.jupyter.widget-state+json": {
        "48466ef66c5645008e5910c2601398ad": {
          "model_module": "@jupyter-widgets/controls",
          "model_name": "HBoxModel",
          "model_module_version": "1.5.0",
          "state": {
            "_dom_classes": [],
            "_model_module": "@jupyter-widgets/controls",
            "_model_module_version": "1.5.0",
            "_model_name": "HBoxModel",
            "_view_count": null,
            "_view_module": "@jupyter-widgets/controls",
            "_view_module_version": "1.5.0",
            "_view_name": "HBoxView",
            "box_style": "",
            "children": [
              "IPY_MODEL_93c7d74448d34f828ac0c9b42d8b53b9",
              "IPY_MODEL_e37728a45c76404db870cea6d602e28a",
              "IPY_MODEL_c1d897098a3a41a389f7a2dff975be99"
            ],
            "layout": "IPY_MODEL_06e1d749c42241fcaf18e3ffe15b4fa0"
          }
        },
        "93c7d74448d34f828ac0c9b42d8b53b9": {
          "model_module": "@jupyter-widgets/controls",
          "model_name": "HTMLModel",
          "model_module_version": "1.5.0",
          "state": {
            "_dom_classes": [],
            "_model_module": "@jupyter-widgets/controls",
            "_model_module_version": "1.5.0",
            "_model_name": "HTMLModel",
            "_view_count": null,
            "_view_module": "@jupyter-widgets/controls",
            "_view_module_version": "1.5.0",
            "_view_name": "HTMLView",
            "description": "",
            "description_tooltip": null,
            "layout": "IPY_MODEL_f45984cd577b483a8ef3bcdbbc81acf8",
            "placeholder": "​",
            "style": "IPY_MODEL_0faae3948e0b40629c0129863bbd19af",
            "value": "100%"
          }
        },
        "e37728a45c76404db870cea6d602e28a": {
          "model_module": "@jupyter-widgets/controls",
          "model_name": "FloatProgressModel",
          "model_module_version": "1.5.0",
          "state": {
            "_dom_classes": [],
            "_model_module": "@jupyter-widgets/controls",
            "_model_module_version": "1.5.0",
            "_model_name": "FloatProgressModel",
            "_view_count": null,
            "_view_module": "@jupyter-widgets/controls",
            "_view_module_version": "1.5.0",
            "_view_name": "ProgressView",
            "bar_style": "success",
            "description": "",
            "description_tooltip": null,
            "layout": "IPY_MODEL_f8e33bb80a46469d8338d5c220b4466c",
            "max": 200,
            "min": 0,
            "orientation": "horizontal",
            "style": "IPY_MODEL_67eafc15103c4b30b6b33a4cf3ceed94",
            "value": 200
          }
        },
        "c1d897098a3a41a389f7a2dff975be99": {
          "model_module": "@jupyter-widgets/controls",
          "model_name": "HTMLModel",
          "model_module_version": "1.5.0",
          "state": {
            "_dom_classes": [],
            "_model_module": "@jupyter-widgets/controls",
            "_model_module_version": "1.5.0",
            "_model_name": "HTMLModel",
            "_view_count": null,
            "_view_module": "@jupyter-widgets/controls",
            "_view_module_version": "1.5.0",
            "_view_name": "HTMLView",
            "description": "",
            "description_tooltip": null,
            "layout": "IPY_MODEL_a70b781e55344fcbb3c5ae8a9087da25",
            "placeholder": "​",
            "style": "IPY_MODEL_4e13e1e040b440cb9e3ab520f7fd605a",
            "value": " 200/200 [00:09&lt;00:00, 24.26it/s]"
          }
        },
        "06e1d749c42241fcaf18e3ffe15b4fa0": {
          "model_module": "@jupyter-widgets/base",
          "model_name": "LayoutModel",
          "model_module_version": "1.2.0",
          "state": {
            "_model_module": "@jupyter-widgets/base",
            "_model_module_version": "1.2.0",
            "_model_name": "LayoutModel",
            "_view_count": null,
            "_view_module": "@jupyter-widgets/base",
            "_view_module_version": "1.2.0",
            "_view_name": "LayoutView",
            "align_content": null,
            "align_items": null,
            "align_self": null,
            "border": null,
            "bottom": null,
            "display": null,
            "flex": null,
            "flex_flow": null,
            "grid_area": null,
            "grid_auto_columns": null,
            "grid_auto_flow": null,
            "grid_auto_rows": null,
            "grid_column": null,
            "grid_gap": null,
            "grid_row": null,
            "grid_template_areas": null,
            "grid_template_columns": null,
            "grid_template_rows": null,
            "height": null,
            "justify_content": null,
            "justify_items": null,
            "left": null,
            "margin": null,
            "max_height": null,
            "max_width": null,
            "min_height": null,
            "min_width": null,
            "object_fit": null,
            "object_position": null,
            "order": null,
            "overflow": null,
            "overflow_x": null,
            "overflow_y": null,
            "padding": null,
            "right": null,
            "top": null,
            "visibility": null,
            "width": null
          }
        },
        "f45984cd577b483a8ef3bcdbbc81acf8": {
          "model_module": "@jupyter-widgets/base",
          "model_name": "LayoutModel",
          "model_module_version": "1.2.0",
          "state": {
            "_model_module": "@jupyter-widgets/base",
            "_model_module_version": "1.2.0",
            "_model_name": "LayoutModel",
            "_view_count": null,
            "_view_module": "@jupyter-widgets/base",
            "_view_module_version": "1.2.0",
            "_view_name": "LayoutView",
            "align_content": null,
            "align_items": null,
            "align_self": null,
            "border": null,
            "bottom": null,
            "display": null,
            "flex": null,
            "flex_flow": null,
            "grid_area": null,
            "grid_auto_columns": null,
            "grid_auto_flow": null,
            "grid_auto_rows": null,
            "grid_column": null,
            "grid_gap": null,
            "grid_row": null,
            "grid_template_areas": null,
            "grid_template_columns": null,
            "grid_template_rows": null,
            "height": null,
            "justify_content": null,
            "justify_items": null,
            "left": null,
            "margin": null,
            "max_height": null,
            "max_width": null,
            "min_height": null,
            "min_width": null,
            "object_fit": null,
            "object_position": null,
            "order": null,
            "overflow": null,
            "overflow_x": null,
            "overflow_y": null,
            "padding": null,
            "right": null,
            "top": null,
            "visibility": null,
            "width": null
          }
        },
        "0faae3948e0b40629c0129863bbd19af": {
          "model_module": "@jupyter-widgets/controls",
          "model_name": "DescriptionStyleModel",
          "model_module_version": "1.5.0",
          "state": {
            "_model_module": "@jupyter-widgets/controls",
            "_model_module_version": "1.5.0",
            "_model_name": "DescriptionStyleModel",
            "_view_count": null,
            "_view_module": "@jupyter-widgets/base",
            "_view_module_version": "1.2.0",
            "_view_name": "StyleView",
            "description_width": ""
          }
        },
        "f8e33bb80a46469d8338d5c220b4466c": {
          "model_module": "@jupyter-widgets/base",
          "model_name": "LayoutModel",
          "model_module_version": "1.2.0",
          "state": {
            "_model_module": "@jupyter-widgets/base",
            "_model_module_version": "1.2.0",
            "_model_name": "LayoutModel",
            "_view_count": null,
            "_view_module": "@jupyter-widgets/base",
            "_view_module_version": "1.2.0",
            "_view_name": "LayoutView",
            "align_content": null,
            "align_items": null,
            "align_self": null,
            "border": null,
            "bottom": null,
            "display": null,
            "flex": null,
            "flex_flow": null,
            "grid_area": null,
            "grid_auto_columns": null,
            "grid_auto_flow": null,
            "grid_auto_rows": null,
            "grid_column": null,
            "grid_gap": null,
            "grid_row": null,
            "grid_template_areas": null,
            "grid_template_columns": null,
            "grid_template_rows": null,
            "height": null,
            "justify_content": null,
            "justify_items": null,
            "left": null,
            "margin": null,
            "max_height": null,
            "max_width": null,
            "min_height": null,
            "min_width": null,
            "object_fit": null,
            "object_position": null,
            "order": null,
            "overflow": null,
            "overflow_x": null,
            "overflow_y": null,
            "padding": null,
            "right": null,
            "top": null,
            "visibility": null,
            "width": null
          }
        },
        "67eafc15103c4b30b6b33a4cf3ceed94": {
          "model_module": "@jupyter-widgets/controls",
          "model_name": "ProgressStyleModel",
          "model_module_version": "1.5.0",
          "state": {
            "_model_module": "@jupyter-widgets/controls",
            "_model_module_version": "1.5.0",
            "_model_name": "ProgressStyleModel",
            "_view_count": null,
            "_view_module": "@jupyter-widgets/base",
            "_view_module_version": "1.2.0",
            "_view_name": "StyleView",
            "bar_color": null,
            "description_width": ""
          }
        },
        "a70b781e55344fcbb3c5ae8a9087da25": {
          "model_module": "@jupyter-widgets/base",
          "model_name": "LayoutModel",
          "model_module_version": "1.2.0",
          "state": {
            "_model_module": "@jupyter-widgets/base",
            "_model_module_version": "1.2.0",
            "_model_name": "LayoutModel",
            "_view_count": null,
            "_view_module": "@jupyter-widgets/base",
            "_view_module_version": "1.2.0",
            "_view_name": "LayoutView",
            "align_content": null,
            "align_items": null,
            "align_self": null,
            "border": null,
            "bottom": null,
            "display": null,
            "flex": null,
            "flex_flow": null,
            "grid_area": null,
            "grid_auto_columns": null,
            "grid_auto_flow": null,
            "grid_auto_rows": null,
            "grid_column": null,
            "grid_gap": null,
            "grid_row": null,
            "grid_template_areas": null,
            "grid_template_columns": null,
            "grid_template_rows": null,
            "height": null,
            "justify_content": null,
            "justify_items": null,
            "left": null,
            "margin": null,
            "max_height": null,
            "max_width": null,
            "min_height": null,
            "min_width": null,
            "object_fit": null,
            "object_position": null,
            "order": null,
            "overflow": null,
            "overflow_x": null,
            "overflow_y": null,
            "padding": null,
            "right": null,
            "top": null,
            "visibility": null,
            "width": null
          }
        },
        "4e13e1e040b440cb9e3ab520f7fd605a": {
          "model_module": "@jupyter-widgets/controls",
          "model_name": "DescriptionStyleModel",
          "model_module_version": "1.5.0",
          "state": {
            "_model_module": "@jupyter-widgets/controls",
            "_model_module_version": "1.5.0",
            "_model_name": "DescriptionStyleModel",
            "_view_count": null,
            "_view_module": "@jupyter-widgets/base",
            "_view_module_version": "1.2.0",
            "_view_name": "StyleView",
            "description_width": ""
          }
        }
      }
    }
  },
  "nbformat": 4,
  "nbformat_minor": 0
}